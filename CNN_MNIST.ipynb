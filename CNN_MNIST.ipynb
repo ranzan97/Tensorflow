{
  "nbformat": 4,
  "nbformat_minor": 0,
  "metadata": {
    "colab": {
      "provenance": [],
      "authorship_tag": "ABX9TyO/CSOhhVxopi6yq2bYKc/t",
      "include_colab_link": true
    },
    "kernelspec": {
      "name": "python3",
      "display_name": "Python 3"
    },
    "language_info": {
      "name": "python"
    }
  },
  "cells": [
    {
      "cell_type": "markdown",
      "metadata": {
        "id": "view-in-github",
        "colab_type": "text"
      },
      "source": [
        "<a href=\"https://colab.research.google.com/github/ranzan97/Tensorflow/blob/main/CNN_MNIST.ipynb\" target=\"_parent\"><img src=\"https://colab.research.google.com/assets/colab-badge.svg\" alt=\"Open In Colab\"/></a>"
      ]
    },
    {
      "cell_type": "code",
      "execution_count": 1,
      "metadata": {
        "id": "_QzdCtqaoulX"
      },
      "outputs": [],
      "source": [
        "import tensorflow as tf\n",
        "from tensorflow.keras import layers, models\n",
        "import numpy as np"
      ]
    },
    {
      "cell_type": "code",
      "source": [
        "# Load and preprocess the MNIST dataset\n",
        "mnist = tf.keras.datasets.mnist\n",
        "(x_train, y_train), (x_test, y_test) = mnist.load_data()\n",
        "x_train, x_test = x_train / 255.0, x_test / 255.0\n",
        "x_train = x_train[..., tf.newaxis].astype(\"float32\")\n",
        "x_test = x_test[..., tf.newaxis].astype(\"float32\")\n",
        "y_train = tf.keras.utils.to_categorical(y_train, 10)\n",
        "y_test = tf.keras.utils.to_categorical(y_test, 10)"
      ],
      "metadata": {
        "colab": {
          "base_uri": "https://localhost:8080/"
        },
        "id": "8fztqjSKoy_B",
        "outputId": "7d27cc85-81e8-4e42-8f63-aacfc4960109"
      },
      "execution_count": 2,
      "outputs": [
        {
          "output_type": "stream",
          "name": "stdout",
          "text": [
            "Downloading data from https://storage.googleapis.com/tensorflow/tf-keras-datasets/mnist.npz\n",
            "\u001b[1m11490434/11490434\u001b[0m \u001b[32m━━━━━━━━━━━━━━━━━━━━\u001b[0m\u001b[37m\u001b[0m \u001b[1m0s\u001b[0m 0us/step\n"
          ]
        }
      ]
    },
    {
      "cell_type": "code",
      "source": [
        "# Parameters\n",
        "learning_rate = 0.01\n",
        "batch_size = 1000\n",
        "drop_out = 0.7\n",
        "training_epoch = 20"
      ],
      "metadata": {
        "id": "8WT70C4Ko5ih"
      },
      "execution_count": 3,
      "outputs": []
    },
    {
      "cell_type": "code",
      "source": [
        "# Define the model\n",
        "model = models.Sequential([\n",
        "    layers.Conv2D(32, (5, 5), activation='relu', input_shape=(28, 28, 1)),\n",
        "    layers.MaxPooling2D((2, 2)),\n",
        "    layers.Conv2D(64, (5, 5), activation='relu'),\n",
        "    layers.MaxPooling2D((2, 2)),\n",
        "    layers.Flatten(),\n",
        "    layers.Dense(1024, activation='relu'),\n",
        "    layers.Dropout(1 - drop_out),\n",
        "    layers.Dense(10, activation='softmax')\n",
        "])"
      ],
      "metadata": {
        "colab": {
          "base_uri": "https://localhost:8080/"
        },
        "id": "8WOCbv82o-mu",
        "outputId": "573aa86f-69c2-4e5d-8772-b84dea130c10"
      },
      "execution_count": 4,
      "outputs": [
        {
          "output_type": "stream",
          "name": "stderr",
          "text": [
            "/usr/local/lib/python3.11/dist-packages/keras/src/layers/convolutional/base_conv.py:107: UserWarning: Do not pass an `input_shape`/`input_dim` argument to a layer. When using Sequential models, prefer using an `Input(shape)` object as the first layer in the model instead.\n",
            "  super().__init__(activity_regularizer=activity_regularizer, **kwargs)\n"
          ]
        }
      ]
    },
    {
      "cell_type": "code",
      "source": [
        "# Compile the model\n",
        "model.compile(optimizer=tf.keras.optimizers.Adam(learning_rate=learning_rate),\n",
        "              loss='categorical_crossentropy',\n",
        "              metrics=['accuracy'])"
      ],
      "metadata": {
        "id": "-k8acHEEpCgg"
      },
      "execution_count": 5,
      "outputs": []
    },
    {
      "cell_type": "code",
      "source": [
        "# Create TensorBoard callback\n",
        "tensorboard_callback = tf.keras.callbacks.TensorBoard(log_dir='logs/05_Convolution_Neural_Network_With_Mnist_Dataset', histogram_freq=1)"
      ],
      "metadata": {
        "id": "lFG9iGpmpIkf"
      },
      "execution_count": 6,
      "outputs": []
    },
    {
      "cell_type": "code",
      "source": [
        "# Train the model\n",
        "history = model.fit(x_train, y_train,\n",
        "                    batch_size=batch_size,\n",
        "                    epochs=training_epoch,\n",
        "                    validation_split=0.1,\n",
        "                    callbacks=[tensorboard_callback])"
      ],
      "metadata": {
        "colab": {
          "base_uri": "https://localhost:8080/"
        },
        "id": "loek5imIpLcB",
        "outputId": "b2901791-b78c-4aa9-e108-dc9c69e5db67"
      },
      "execution_count": 7,
      "outputs": [
        {
          "output_type": "stream",
          "name": "stdout",
          "text": [
            "Epoch 1/20\n",
            "\u001b[1m54/54\u001b[0m \u001b[32m━━━━━━━━━━━━━━━━━━━━\u001b[0m\u001b[37m\u001b[0m \u001b[1m67s\u001b[0m 1s/step - accuracy: 0.5946 - loss: 1.2964 - val_accuracy: 0.9802 - val_loss: 0.0675\n",
            "Epoch 2/20\n",
            "\u001b[1m54/54\u001b[0m \u001b[32m━━━━━━━━━━━━━━━━━━━━\u001b[0m\u001b[37m\u001b[0m \u001b[1m81s\u001b[0m 1s/step - accuracy: 0.9756 - loss: 0.0775 - val_accuracy: 0.9855 - val_loss: 0.0473\n",
            "Epoch 3/20\n",
            "\u001b[1m54/54\u001b[0m \u001b[32m━━━━━━━━━━━━━━━━━━━━\u001b[0m\u001b[37m\u001b[0m \u001b[1m64s\u001b[0m 1s/step - accuracy: 0.9844 - loss: 0.0504 - val_accuracy: 0.9893 - val_loss: 0.0352\n",
            "Epoch 4/20\n",
            "\u001b[1m54/54\u001b[0m \u001b[32m━━━━━━━━━━━━━━━━━━━━\u001b[0m\u001b[37m\u001b[0m \u001b[1m87s\u001b[0m 1s/step - accuracy: 0.9895 - loss: 0.0324 - val_accuracy: 0.9892 - val_loss: 0.0400\n",
            "Epoch 5/20\n",
            "\u001b[1m54/54\u001b[0m \u001b[32m━━━━━━━━━━━━━━━━━━━━\u001b[0m\u001b[37m\u001b[0m \u001b[1m79s\u001b[0m 1s/step - accuracy: 0.9907 - loss: 0.0300 - val_accuracy: 0.9903 - val_loss: 0.0370\n",
            "Epoch 6/20\n",
            "\u001b[1m54/54\u001b[0m \u001b[32m━━━━━━━━━━━━━━━━━━━━\u001b[0m\u001b[37m\u001b[0m \u001b[1m81s\u001b[0m 1s/step - accuracy: 0.9918 - loss: 0.0255 - val_accuracy: 0.9885 - val_loss: 0.0416\n",
            "Epoch 7/20\n",
            "\u001b[1m54/54\u001b[0m \u001b[32m━━━━━━━━━━━━━━━━━━━━\u001b[0m\u001b[37m\u001b[0m \u001b[1m83s\u001b[0m 1s/step - accuracy: 0.9929 - loss: 0.0217 - val_accuracy: 0.9883 - val_loss: 0.0386\n",
            "Epoch 8/20\n",
            "\u001b[1m54/54\u001b[0m \u001b[32m━━━━━━━━━━━━━━━━━━━━\u001b[0m\u001b[37m\u001b[0m \u001b[1m82s\u001b[0m 1s/step - accuracy: 0.9925 - loss: 0.0231 - val_accuracy: 0.9908 - val_loss: 0.0359\n",
            "Epoch 9/20\n",
            "\u001b[1m54/54\u001b[0m \u001b[32m━━━━━━━━━━━━━━━━━━━━\u001b[0m\u001b[37m\u001b[0m \u001b[1m81s\u001b[0m 1s/step - accuracy: 0.9931 - loss: 0.0208 - val_accuracy: 0.9915 - val_loss: 0.0359\n",
            "Epoch 10/20\n",
            "\u001b[1m54/54\u001b[0m \u001b[32m━━━━━━━━━━━━━━━━━━━━\u001b[0m\u001b[37m\u001b[0m \u001b[1m83s\u001b[0m 1s/step - accuracy: 0.9947 - loss: 0.0165 - val_accuracy: 0.9903 - val_loss: 0.0356\n",
            "Epoch 11/20\n",
            "\u001b[1m54/54\u001b[0m \u001b[32m━━━━━━━━━━━━━━━━━━━━\u001b[0m\u001b[37m\u001b[0m \u001b[1m82s\u001b[0m 1s/step - accuracy: 0.9961 - loss: 0.0130 - val_accuracy: 0.9918 - val_loss: 0.0333\n",
            "Epoch 12/20\n",
            "\u001b[1m54/54\u001b[0m \u001b[32m━━━━━━━━━━━━━━━━━━━━\u001b[0m\u001b[37m\u001b[0m \u001b[1m86s\u001b[0m 1s/step - accuracy: 0.9954 - loss: 0.0136 - val_accuracy: 0.9908 - val_loss: 0.0424\n",
            "Epoch 13/20\n",
            "\u001b[1m54/54\u001b[0m \u001b[32m━━━━━━━━━━━━━━━━━━━━\u001b[0m\u001b[37m\u001b[0m \u001b[1m74s\u001b[0m 1s/step - accuracy: 0.9947 - loss: 0.0160 - val_accuracy: 0.9928 - val_loss: 0.0282\n",
            "Epoch 14/20\n",
            "\u001b[1m54/54\u001b[0m \u001b[32m━━━━━━━━━━━━━━━━━━━━\u001b[0m\u001b[37m\u001b[0m \u001b[1m85s\u001b[0m 1s/step - accuracy: 0.9965 - loss: 0.0103 - val_accuracy: 0.9917 - val_loss: 0.0370\n",
            "Epoch 15/20\n",
            "\u001b[1m54/54\u001b[0m \u001b[32m━━━━━━━━━━━━━━━━━━━━\u001b[0m\u001b[37m\u001b[0m \u001b[1m63s\u001b[0m 1s/step - accuracy: 0.9947 - loss: 0.0144 - val_accuracy: 0.9897 - val_loss: 0.0494\n",
            "Epoch 16/20\n",
            "\u001b[1m54/54\u001b[0m \u001b[32m━━━━━━━━━━━━━━━━━━━━\u001b[0m\u001b[37m\u001b[0m \u001b[1m65s\u001b[0m 1s/step - accuracy: 0.9958 - loss: 0.0126 - val_accuracy: 0.9918 - val_loss: 0.0350\n",
            "Epoch 17/20\n",
            "\u001b[1m54/54\u001b[0m \u001b[32m━━━━━━━━━━━━━━━━━━━━\u001b[0m\u001b[37m\u001b[0m \u001b[1m83s\u001b[0m 1s/step - accuracy: 0.9950 - loss: 0.0149 - val_accuracy: 0.9892 - val_loss: 0.0502\n",
            "Epoch 18/20\n",
            "\u001b[1m54/54\u001b[0m \u001b[32m━━━━━━━━━━━━━━━━━━━━\u001b[0m\u001b[37m\u001b[0m \u001b[1m67s\u001b[0m 1s/step - accuracy: 0.9959 - loss: 0.0124 - val_accuracy: 0.9903 - val_loss: 0.0539\n",
            "Epoch 19/20\n",
            "\u001b[1m54/54\u001b[0m \u001b[32m━━━━━━━━━━━━━━━━━━━━\u001b[0m\u001b[37m\u001b[0m \u001b[1m64s\u001b[0m 1s/step - accuracy: 0.9948 - loss: 0.0160 - val_accuracy: 0.9902 - val_loss: 0.0459\n",
            "Epoch 20/20\n",
            "\u001b[1m54/54\u001b[0m \u001b[32m━━━━━━━━━━━━━━━━━━━━\u001b[0m\u001b[37m\u001b[0m \u001b[1m89s\u001b[0m 1s/step - accuracy: 0.9963 - loss: 0.0111 - val_accuracy: 0.9903 - val_loss: 0.0471\n"
          ]
        }
      ]
    },
    {
      "cell_type": "code",
      "source": [
        "# Evaluate the model\n",
        "test_loss, test_accuracy = model.evaluate(x_test, y_test, verbose=2)\n",
        "print(f\"\\nTest accuracy: {test_accuracy:.5f}\")"
      ],
      "metadata": {
        "colab": {
          "base_uri": "https://localhost:8080/"
        },
        "id": "Q7-2aqNKpOi2",
        "outputId": "390a8000-ccad-454b-809d-fe4a7dc435d0"
      },
      "execution_count": 8,
      "outputs": [
        {
          "output_type": "stream",
          "name": "stdout",
          "text": [
            "313/313 - 4s - 12ms/step - accuracy: 0.9901 - loss: 0.0392\n",
            "\n",
            "Test accuracy: 0.99010\n"
          ]
        }
      ]
    },
    {
      "cell_type": "code",
      "source": [
        "# Print training history\n",
        "for epoch, acc in enumerate(history.history['accuracy']):\n",
        "    print(f\"epoch {epoch}, accuracy = {acc:.5f}, loss = {history.history['loss'][epoch]:.5f}\")"
      ],
      "metadata": {
        "colab": {
          "base_uri": "https://localhost:8080/"
        },
        "id": "RLXkVmaUvOhn",
        "outputId": "4cd3e14c-2bcd-4950-f4a7-1102f61709e3"
      },
      "execution_count": 9,
      "outputs": [
        {
          "output_type": "stream",
          "name": "stdout",
          "text": [
            "epoch 0, accuracy = 0.81274, loss = 0.60048\n",
            "epoch 1, accuracy = 0.97754, loss = 0.07193\n",
            "epoch 2, accuracy = 0.98467, loss = 0.04873\n",
            "epoch 3, accuracy = 0.98885, loss = 0.03478\n",
            "epoch 4, accuracy = 0.98983, loss = 0.03135\n",
            "epoch 5, accuracy = 0.99141, loss = 0.02624\n",
            "epoch 6, accuracy = 0.99178, loss = 0.02433\n",
            "epoch 7, accuracy = 0.99294, loss = 0.02218\n",
            "epoch 8, accuracy = 0.99319, loss = 0.02085\n",
            "epoch 9, accuracy = 0.99402, loss = 0.01823\n",
            "epoch 10, accuracy = 0.99506, loss = 0.01592\n",
            "epoch 11, accuracy = 0.99500, loss = 0.01499\n",
            "epoch 12, accuracy = 0.99496, loss = 0.01574\n",
            "epoch 13, accuracy = 0.99572, loss = 0.01250\n",
            "epoch 14, accuracy = 0.99456, loss = 0.01495\n",
            "epoch 15, accuracy = 0.99519, loss = 0.01519\n",
            "epoch 16, accuracy = 0.99470, loss = 0.01586\n",
            "epoch 17, accuracy = 0.99533, loss = 0.01474\n",
            "epoch 18, accuracy = 0.99470, loss = 0.01676\n",
            "epoch 19, accuracy = 0.99591, loss = 0.01174\n"
          ]
        }
      ]
    },
    {
      "cell_type": "code",
      "source": [],
      "metadata": {
        "id": "VAvzi7iOvYQe"
      },
      "execution_count": null,
      "outputs": []
    }
  ]
}