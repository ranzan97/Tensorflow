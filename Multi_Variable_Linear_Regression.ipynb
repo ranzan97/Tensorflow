{
  "nbformat": 4,
  "nbformat_minor": 0,
  "metadata": {
    "colab": {
      "provenance": [],
      "gpuType": "T4",
      "authorship_tag": "ABX9TyPO9VL4pFhtZ2FGwN1PZwQs",
      "include_colab_link": true
    },
    "kernelspec": {
      "name": "python3",
      "display_name": "Python 3"
    },
    "language_info": {
      "name": "python"
    },
    "accelerator": "GPU"
  },
  "cells": [
    {
      "cell_type": "markdown",
      "metadata": {
        "id": "view-in-github",
        "colab_type": "text"
      },
      "source": [
        "<a href=\"https://colab.research.google.com/github/ranzan97/Tensorflow/blob/main/Multi_Variable_Linear_Regression.ipynb\" target=\"_parent\"><img src=\"https://colab.research.google.com/assets/colab-badge.svg\" alt=\"Open In Colab\"/></a>"
      ]
    },
    {
      "cell_type": "code",
      "execution_count": 37,
      "metadata": {
        "id": "HbfWSPIrzZhq"
      },
      "outputs": [],
      "source": [
        "#import tensorflow\n",
        "\n",
        "import tensorflow as tf"
      ]
    },
    {
      "cell_type": "code",
      "source": [
        "#Initialize X and Y data points\n",
        "\n",
        "X1_data = [73., 93., 89., 96., 73.]\n",
        "X2_data = [80., 88., 91., 98., 66.]\n",
        "X3_data = [75., 93., 90., 100., 70.]\n",
        "\n",
        "Y_data = [152., 185., 180., 196., 142.]"
      ],
      "metadata": {
        "id": "rxUFHXguzlqN"
      },
      "execution_count": 38,
      "outputs": []
    },
    {
      "cell_type": "code",
      "source": [
        "#Define TensorFlow variables and placeholders for weight, input X, and target Y,Bias\n",
        "\n",
        "W1 = tf.Variable(tf.random.normal([1]), name='weight1')\n",
        "W2 = tf.Variable(tf.random.normal([1]), name='weight2')\n",
        "W3 = tf.Variable(tf.random.normal([1]), name='weight3')\n",
        "X1 = tf.constant(X1_data, dtype=tf.float32)  # Input tensor\n",
        "X2 = tf.constant(X2_data, dtype=tf.float32)  # Input tensor\n",
        "X3 = tf.constant(X3_data, dtype=tf.float32)  # Input tensor\n",
        "b = tf.Variable(tf.random.normal([1]), dtype=tf.float32, name='b') #bias\n",
        "\n",
        "Y = tf.constant(Y_data, dtype=tf.float32)  # Target tensor"
      ],
      "metadata": {
        "id": "IIF5GXRPz48K"
      },
      "execution_count": 39,
      "outputs": []
    },
    {
      "cell_type": "code",
      "source": [
        "def hypothesis():\n",
        "    return W1 * X1 + W2 * X2 + W3 * X3 + b"
      ],
      "metadata": {
        "id": "J-Smlwgh0UoB"
      },
      "execution_count": 40,
      "outputs": []
    },
    {
      "cell_type": "code",
      "source": [
        "#Define the cost function as the mean squared error between hypothesis and actual Y\n",
        "\n",
        "def cost():\n",
        "    return tf.reduce_mean(tf.square(hypothesis() - Y))"
      ],
      "metadata": {
        "id": "hYkwQwnD1r2-"
      },
      "execution_count": 41,
      "outputs": []
    },
    {
      "cell_type": "code",
      "source": [
        "#Create an optimizer using gradient descent to minimize the cost function\n",
        "\n",
        "optimizer = tf.optimizers.SGD(learning_rate=0.00001)"
      ],
      "metadata": {
        "id": "AfiIqBF02B3q"
      },
      "execution_count": 42,
      "outputs": []
    },
    {
      "cell_type": "code",
      "source": [
        "# Define training step\n",
        "\n",
        "def train_step():\n",
        "    with tf.GradientTape() as tape:\n",
        "        hypothesis = W1 * X1 + W2 * X2 + W3 * X3 + b\n",
        "        _cost = tf.reduce_mean(tf.square(hypothesis - Y))  # Compute cost inside the tape\n",
        "    gradients = tape.gradient(_cost, [W1, W2, W3, b])  # Compute gradients\n",
        "    optimizer.apply_gradients(zip(gradients, [W1, W2, W3, b]))  # Update weights and bias\n",
        "    return _cost"
      ],
      "metadata": {
        "id": "2BdLgSGH2Nic"
      },
      "execution_count": 43,
      "outputs": []
    },
    {
      "cell_type": "code",
      "source": [
        "#Train the model\n",
        "\n",
        "for epoch in range(2000):\n",
        "    _cost = train_step()\n",
        "    if epoch % 100 == 0:\n",
        "        _predict = hypothesis()\n",
        "        print(f\"Epoch {epoch}, Cost: {_cost.numpy()}\")\n",
        "        print(\"Predictions:\", _predict.numpy())"
      ],
      "metadata": {
        "colab": {
          "base_uri": "https://localhost:8080/"
        },
        "id": "igeUeyZK37Nz",
        "outputId": "12da431b-1062-4274-d309-9ec3474e94bd"
      },
      "execution_count": 44,
      "outputs": [
        {
          "output_type": "stream",
          "name": "stdout",
          "text": [
            "Epoch 0, Cost: 186092.609375\n",
            "Predictions: [-53.53851 -79.52555 -70.77288 -75.30856 -65.68163]\n",
            "Epoch 100, Cost: 54.285308837890625\n",
            "Predictions: [160.44655 178.19736 182.89145 200.94876 131.00839]\n",
            "Epoch 200, Cost: 51.5528678894043\n",
            "Predictions: [160.17436 178.38472 182.80904 200.88142 131.2608 ]\n",
            "Epoch 300, Cost: 48.963897705078125\n",
            "Predictions: [159.90955 178.56708 182.72888 200.81577 131.50659]\n",
            "Epoch 400, Cost: 46.510963439941406\n",
            "Predictions: [159.65187 178.74449 182.65094 200.7517  131.7459 ]\n",
            "Epoch 500, Cost: 44.18680953979492\n",
            "Predictions: [159.40118 178.91713 182.57512 200.6892  131.9789 ]\n",
            "Epoch 600, Cost: 41.98456573486328\n",
            "Predictions: [159.15726 179.08508 182.50134 200.62817 132.20578]\n",
            "Epoch 700, Cost: 39.89809036254883\n",
            "Predictions: [158.91995 179.24855 182.42961 200.56868 132.4267 ]\n",
            "Epoch 800, Cost: 37.9211311340332\n",
            "Predictions: [158.68909 179.40758 182.35985 200.51062 132.64182]\n",
            "Epoch 900, Cost: 36.047752380371094\n",
            "Predictions: [158.46446 179.56232 182.29199 200.45395 132.85129]\n",
            "Epoch 1000, Cost: 34.272682189941406\n",
            "Predictions: [158.24596 179.71292 182.22603 200.39868 133.05527]\n",
            "Epoch 1100, Cost: 32.590667724609375\n",
            "Predictions: [158.03336 179.85944 182.16185 200.34473 133.2539 ]\n",
            "Epoch 1200, Cost: 30.996807098388672\n",
            "Predictions: [157.82654 180.00197 182.09946 200.29207 133.44734]\n",
            "Epoch 1300, Cost: 29.486522674560547\n",
            "Predictions: [157.6253  180.14067 182.03874 200.24065 133.63565]\n",
            "Epoch 1400, Cost: 28.05531883239746\n",
            "Predictions: [157.42955 180.27562 181.97974 200.19048 133.81906]\n",
            "Epoch 1500, Cost: 26.698949813842773\n",
            "Predictions: [157.2391  180.40692 181.92233 200.1415  133.99768]\n",
            "Epoch 1600, Cost: 25.413728713989258\n",
            "Predictions: [157.05385 180.5347  181.86655 200.09372 134.17165]\n",
            "Epoch 1700, Cost: 24.195682525634766\n",
            "Predictions: [156.87361 180.65901 181.81227 200.04701 134.34102]\n",
            "Epoch 1800, Cost: 23.041259765625\n",
            "Predictions: [156.69827 180.77992 181.75948 200.00143 134.50598]\n",
            "Epoch 1900, Cost: 21.94731330871582\n",
            "Predictions: [156.52774 180.89763 181.70819 199.95694 134.66666]\n"
          ]
        }
      ]
    },
    {
      "cell_type": "code",
      "source": [
        "# Print the final weights and bias\n",
        "print(f\"W1: {W1.numpy()}, W2: {W2.numpy()}, W3: {W3.numpy()}, b: {b.numpy()}\")\n"
      ],
      "metadata": {
        "colab": {
          "base_uri": "https://localhost:8080/"
        },
        "id": "UMU8FTkH4Ar1",
        "outputId": "8fd629a5-17b1-4d57-899d-26f19c57be40"
      },
      "execution_count": 45,
      "outputs": [
        {
          "output_type": "stream",
          "name": "stdout",
          "text": [
            "W1: [-0.4726765], W2: [1.0247573], W3: [1.4390558], b: [0.95905864]\n"
          ]
        }
      ]
    },
    {
      "cell_type": "code",
      "source": [],
      "metadata": {
        "id": "OMnZ92r64K3u"
      },
      "execution_count": 45,
      "outputs": []
    }
  ]
}