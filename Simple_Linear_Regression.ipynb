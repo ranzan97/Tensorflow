{
  "nbformat": 4,
  "nbformat_minor": 0,
  "metadata": {
    "colab": {
      "provenance": [],
      "authorship_tag": "ABX9TyMc4pwTVdF2G9cGV3C4EMCB",
      "include_colab_link": true
    },
    "kernelspec": {
      "name": "python3",
      "display_name": "Python 3"
    },
    "language_info": {
      "name": "python"
    }
  },
  "cells": [
    {
      "cell_type": "markdown",
      "metadata": {
        "id": "view-in-github",
        "colab_type": "text"
      },
      "source": [
        "<a href=\"https://colab.research.google.com/github/ranzan97/Tensorflow/blob/main/Simple_Linear_Regression.ipynb\" target=\"_parent\"><img src=\"https://colab.research.google.com/assets/colab-badge.svg\" alt=\"Open In Colab\"/></a>"
      ]
    },
    {
      "cell_type": "code",
      "execution_count": 1,
      "metadata": {
        "id": "HbfWSPIrzZhq"
      },
      "outputs": [],
      "source": [
        "#import tensorflow\n",
        "\n",
        "import tensorflow as tf"
      ]
    },
    {
      "cell_type": "code",
      "source": [
        "#Initialize X and Y data points\n",
        "\n",
        "X_data = [1, 2, 3]\n",
        "Y_data = [1, 2, 3]"
      ],
      "metadata": {
        "id": "rxUFHXguzlqN"
      },
      "execution_count": 2,
      "outputs": []
    },
    {
      "cell_type": "code",
      "source": [
        "#Define TensorFlow variables and placeholders for weight, input X, and target Y\n",
        "\n",
        "W = tf.Variable(tf.random.normal([1]), name='weight')\n",
        "X = tf.constant(X_data, dtype=tf.float32)  # Input tensor\n",
        "Y = tf.constant(Y_data, dtype=tf.float32)  # Target tensor"
      ],
      "metadata": {
        "id": "IIF5GXRPz48K"
      },
      "execution_count": 6,
      "outputs": []
    },
    {
      "cell_type": "code",
      "source": [
        "hypothesis = W * X"
      ],
      "metadata": {
        "id": "J-Smlwgh0UoB"
      },
      "execution_count": 7,
      "outputs": []
    },
    {
      "cell_type": "code",
      "source": [
        "#Define the cost function as the mean squared error between hypothesis and actual Y\n",
        "\n",
        "cost = tf.reduce_mean(tf.square(hypothesis - Y))"
      ],
      "metadata": {
        "id": "hYkwQwnD1r2-"
      },
      "execution_count": 8,
      "outputs": []
    },
    {
      "cell_type": "code",
      "source": [
        "#Create an optimizer using gradient descent to minimize the cost function\n",
        "\n",
        "optimizer = tf.optimizers.SGD(learning_rate=0.01)"
      ],
      "metadata": {
        "id": "AfiIqBF02B3q"
      },
      "execution_count": 10,
      "outputs": []
    },
    {
      "cell_type": "code",
      "source": [
        "# Define training step\n",
        "\n",
        "def train_step():\n",
        "    with tf.GradientTape() as tape:\n",
        "        hypothesis = W * X\n",
        "        cost = tf.reduce_mean(tf.square(hypothesis - Y))\n",
        "    gradients = tape.gradient(cost, [W])\n",
        "    optimizer.apply_gradients(zip(gradients, [W]))\n",
        "    return cost"
      ],
      "metadata": {
        "id": "2BdLgSGH2Nic"
      },
      "execution_count": 11,
      "outputs": []
    },
    {
      "cell_type": "code",
      "source": [
        "#Train the model\n",
        "\n",
        "for epoch in range(1000):\n",
        "    _cost = train_step()\n",
        "    if epoch % 100 == 0:\n",
        "        print(f\"Epoch {epoch}, Cost: {_cost.numpy()}\")"
      ],
      "metadata": {
        "colab": {
          "base_uri": "https://localhost:8080/"
        },
        "id": "igeUeyZK37Nz",
        "outputId": "3b760304-cd47-4cb8-c715-e574beefaf44"
      },
      "execution_count": 12,
      "outputs": [
        {
          "output_type": "stream",
          "name": "stdout",
          "text": [
            "Epoch 0, Cost: 0.23708315193653107\n",
            "Epoch 100, Cost: 7.341374730351902e-10\n",
            "Epoch 200, Cost: 1.8047785488306545e-12\n",
            "Epoch 300, Cost: 1.8047785488306545e-12\n",
            "Epoch 400, Cost: 1.8047785488306545e-12\n",
            "Epoch 500, Cost: 1.8047785488306545e-12\n",
            "Epoch 600, Cost: 1.8047785488306545e-12\n",
            "Epoch 700, Cost: 1.8047785488306545e-12\n",
            "Epoch 800, Cost: 1.8047785488306545e-12\n",
            "Epoch 900, Cost: 1.8047785488306545e-12\n"
          ]
        }
      ]
    },
    {
      "cell_type": "code",
      "source": [
        "#Predicting new data\n",
        "\n",
        "new_X = tf.constant([4, 5, 6], dtype=tf.float32)  # New input data\n",
        "output = W * new_X  # Hypothesis for new data\n",
        "print(\"Predictions for [4, 5, 6]:\", output.numpy())\n"
      ],
      "metadata": {
        "colab": {
          "base_uri": "https://localhost:8080/"
        },
        "id": "UMU8FTkH4Ar1",
        "outputId": "f5c0816c-ec6e-46e2-85a3-812cba94f71b"
      },
      "execution_count": 13,
      "outputs": [
        {
          "output_type": "stream",
          "name": "stdout",
          "text": [
            "Predictions for [4, 5, 6]: [4.0000024 5.000003  6.000004 ]\n"
          ]
        }
      ]
    },
    {
      "cell_type": "code",
      "source": [],
      "metadata": {
        "id": "OMnZ92r64K3u"
      },
      "execution_count": null,
      "outputs": []
    }
  ]
}